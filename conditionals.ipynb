{
 "cells": [
  {
   "cell_type": "markdown",
   "metadata": {},
   "source": [
    "# Conditional statements"
   ]
  },
  {
   "cell_type": "markdown",
   "metadata": {},
   "source": [
    "If we want to evaulate if something is true or false and then perform different actions depending on the outcome, we can use **`if-else`** statements. An **`if-else`** statement, which is common feature of most programming languages, is a conditional statement: if some condition is true, do something; else, do something different.  The else part of the statement is often optional."
   ]
  },
  {
   "cell_type": "markdown",
   "metadata": {},
   "source": [
    "Before we see conditionals in action let's look at something called a Boolean expression."
   ]
  },
  {
   "cell_type": "markdown",
   "metadata": {},
   "source": [
    "A Boolean expression is an expression that evaluates to either true or false. Boolean expressions are a common feature of programming languages. The following comparison operators are commonly used in Boolean expressions."
   ]
  },
  {
   "cell_type": "markdown",
   "metadata": {},
   "source": [
    "      Comparison Operators:\n",
    "      x == y          # x is equal to y\n",
    "      x != y          # x is not equal to y\n",
    "      x > y           # x is greater than y\n",
    "      x < y           # x is less than y\n",
    "      x >= y          # x is greater than or equal to y\n",
    "      x <= y          # x is less than or equal to y"
   ]
  },
  {
   "cell_type": "markdown",
   "metadata": {},
   "source": [
    "A common error is to use `=` in place of `==`. `=` is an assignment operator (i.e. set x = y), whereas `==` is a comparison operator (i.e. is x = y)."
   ]
  },
  {
   "cell_type": "markdown",
   "metadata": {},
   "source": [
    "Let's try a couple comparisons:"
   ]
  },
  {
   "cell_type": "code",
   "execution_count": null,
   "metadata": {},
   "outputs": [],
   "source": [
    "seq1 = 'ATG'\n",
    "seq2 = 'ATG'\n",
    "n1 = 5\n",
    "n2 = 10"
   ]
  },
  {
   "cell_type": "code",
   "execution_count": null,
   "metadata": {},
   "outputs": [],
   "source": []
  },
  {
   "cell_type": "code",
   "execution_count": null,
   "metadata": {},
   "outputs": [],
   "source": []
  },
  {
   "cell_type": "code",
   "execution_count": null,
   "metadata": {},
   "outputs": [],
   "source": []
  },
  {
   "cell_type": "code",
   "execution_count": null,
   "metadata": {},
   "outputs": [],
   "source": []
  },
  {
   "cell_type": "markdown",
   "metadata": {},
   "source": [
    "Now let's look at how boolean expressions interesect conditional statements."
   ]
  },
  {
   "cell_type": "markdown",
   "metadata": {},
   "source": [
    "Let's assign a number input by the user to a variable, such as `num`."
   ]
  },
  {
   "cell_type": "code",
   "execution_count": null,
   "metadata": {},
   "outputs": [],
   "source": []
  },
  {
   "cell_type": "markdown",
   "metadata": {},
   "source": [
    "Recall that by default, the `input()` function treats user input as a string, even if it's a number. So we have to specifically tell Python to treat the value as a number. It doesn't matter when we do that as long as it is not after we use the value. To specify a value as a number, use the syntax `float(value)`."
   ]
  },
  {
   "cell_type": "markdown",
   "metadata": {},
   "source": [
    "Now, we'll write an if statement to determine if the number falls within a particular range. The Python syntax for an `if else` statement is:"
   ]
  },
  {
   "cell_type": "markdown",
   "metadata": {
    "collapsed": true
   },
   "source": [
    "```Python\n",
    "if some expression evaluates to True:\n",
    "    block of code to execute\n",
    "else:\n",
    "    block of code to execute\n",
    "```"
   ]
  },
  {
   "cell_type": "markdown",
   "metadata": {},
   "source": [
    "Note the colon after the conditional statement and the indentation of code that is to be executed if the condition is met. Indentation is Python's way of delimiting blocks of code within conditional statements and in some other contexts. Let's determine if the variable `num` is <10:"
   ]
  },
  {
   "cell_type": "code",
   "execution_count": null,
   "metadata": {},
   "outputs": [],
   "source": []
  },
  {
   "cell_type": "markdown",
   "metadata": {},
   "source": [
    "## Chained conditionals\n",
    "What if we want to test multiple conditions or execute distinct blocks of code depending on which of multiple possible conditions is true? We can simply add another condition, else if, to an if statement. Python uses the shorthand elif in its syntax for else if (it saves a couple keystrokes):"
   ]
  },
  {
   "cell_type": "markdown",
   "metadata": {},
   "source": [
    "```Python\n",
    "if expression1 evaluates to True:\n",
    "    block of code to execute\n",
    "elif expression2 evaluates to True:\n",
    "    block of code to execute\n",
    "else:\n",
    "    block of code to execute\n",
    "```"
   ]
  },
  {
   "cell_type": "markdown",
   "metadata": {},
   "source": [
    "Let's assign a number input by the user to a variable `num` and using an `if-elsif-else` statement, identify whether the number is positive, negative, or 0 and print the result."
   ]
  },
  {
   "cell_type": "code",
   "execution_count": null,
   "metadata": {},
   "outputs": [],
   "source": []
  },
  {
   "cell_type": "markdown",
   "metadata": {},
   "source": [
    "## Membership operator"
   ]
  },
  {
   "cell_type": "markdown",
   "metadata": {},
   "source": [
    "If we want to determine if something is in a list or string, we can use the **`in`** operator:"
   ]
  },
  {
   "cell_type": "code",
   "execution_count": null,
   "metadata": {},
   "outputs": [],
   "source": []
  },
  {
   "cell_type": "markdown",
   "metadata": {},
   "source": [
    "Let's prompt the user for a DNA sequence and determine if the sequence contains a start codon (ATG):"
   ]
  },
  {
   "cell_type": "code",
   "execution_count": null,
   "metadata": {},
   "outputs": [],
   "source": []
  },
  {
   "cell_type": "markdown",
   "metadata": {},
   "source": [
    "## Logical operators"
   ]
  },
  {
   "cell_type": "markdown",
   "metadata": {},
   "source": [
    "There are three logical operators in Python - `and`, `or`, and `not` - that probably mean what you expect them to."
   ]
  },
  {
   "cell_type": "markdown",
   "metadata": {},
   "source": [
    "Let's write some code that tests for the presence of a stop codon (a 3 nt sequence encoding an amino acid) in an RNA sequence. The stop codons are UGA, UAG, and UAA:"
   ]
  },
  {
   "cell_type": "code",
   "execution_count": null,
   "metadata": {},
   "outputs": [],
   "source": [
    "seq =input(\"Enter an RNA sequence: \")\n"
   ]
  },
  {
   "cell_type": "markdown",
   "metadata": {},
   "source": [
    "### The `len()` function"
   ]
  },
  {
   "cell_type": "markdown",
   "metadata": {},
   "source": [
    "If we want to determine the length of something in Python, we use the  `len()` function:"
   ]
  },
  {
   "cell_type": "code",
   "execution_count": null,
   "metadata": {},
   "outputs": [],
   "source": [
    "seq = 'ATTGG'\n",
    "len(seq)"
   ]
  },
  {
   "cell_type": "markdown",
   "metadata": {},
   "source": [
    "Let's prompt the user for a DNA sequence and print it's length:"
   ]
  },
  {
   "cell_type": "code",
   "execution_count": null,
   "metadata": {},
   "outputs": [],
   "source": []
  },
  {
   "cell_type": "markdown",
   "metadata": {},
   "source": [
    "### The modulo operator\n",
    "The modulo operator, `%`, returns the remainder of a division."
   ]
  },
  {
   "cell_type": "markdown",
   "metadata": {},
   "source": [
    "What's the remainder of 10 divided by 3?"
   ]
  },
  {
   "cell_type": "code",
   "execution_count": null,
   "metadata": {},
   "outputs": [],
   "source": []
  },
  {
   "cell_type": "markdown",
   "metadata": {},
   "source": [
    "### Nested conditionals"
   ]
  },
  {
   "cell_type": "markdown",
   "metadata": {},
   "source": [
    "It's sometimes useful if we're testing multiple things to embed a conditional statement within another conditional statement:"
   ]
  },
  {
   "cell_type": "markdown",
   "metadata": {},
   "source": [
    "```Python\n",
    "if some expression evaluates to True:\n",
    "    if some other expression also evaluates to true:\n",
    "        block of code to execute\n",
    "    else:\n",
    "        block of code to execute\n",
    "else:\n",
    "    block of code to execute\n",
    "```"
   ]
  },
  {
   "cell_type": "markdown",
   "metadata": {},
   "source": [
    "Let's compute whether a sequence entered by the user is an open reading frame (ORF). An open reading frame is a sequence that starts with a start codon (ATG), ends with a stop codon (TGA, TAG, or TAA), and is perfectly divisible by 3 (the number of nucleotides in a codon). "
   ]
  },
  {
   "cell_type": "code",
   "execution_count": null,
   "metadata": {},
   "outputs": [],
   "source": [
    "orf = 'ATGCCCGGGTAG'\n",
    "# start codon(ATG), additional codons(CCC and GGG), stop codon (TAG)"
   ]
  },
  {
   "cell_type": "code",
   "execution_count": null,
   "metadata": {},
   "outputs": [],
   "source": []
  },
  {
   "cell_type": "markdown",
   "metadata": {},
   "source": [
    "#### Assignment 11: \n",
    "In the code cell below, prompt the user for a sequence. Then test if the sequence entered is DNA (contains Ts) or RNA (contains U) or unknown (does not contain T or U).  Your code should print the result using a print statement. Copy your code to canvas for assignment 11."
   ]
  },
  {
   "cell_type": "code",
   "execution_count": null,
   "metadata": {},
   "outputs": [],
   "source": []
  }
 ],
 "metadata": {
  "anaconda-cloud": {},
  "kernelspec": {
   "display_name": "Python 3",
   "language": "python",
   "name": "python3"
  },
  "language_info": {
   "codemirror_mode": {
    "name": "ipython",
    "version": 3
   },
   "file_extension": ".py",
   "mimetype": "text/x-python",
   "name": "python",
   "nbconvert_exporter": "python",
   "pygments_lexer": "ipython3",
   "version": "3.8.11"
  }
 },
 "nbformat": 4,
 "nbformat_minor": 1
}
