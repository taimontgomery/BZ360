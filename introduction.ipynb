{
 "cells": [
  {
   "cell_type": "markdown",
   "metadata": {},
   "source": [
    "# Introduction to Python\n",
    "\n",
    "In this exercise, we will cover some basic concepts in Python while introducing Jupyter Notebook, the Python interpreter, text editors, and Spyder IDE."
   ]
  },
  {
   "cell_type": "markdown",
   "metadata": {},
   "source": [
    "### Jupyter Notebook\n",
    "We will use Jupyter Notebook to demonstrate some of the basics of Python programming. Jupyter Notebook provides an interactive user friendly way of writing, testing, and documenting code."
   ]
  },
  {
   "cell_type": "markdown",
   "metadata": {},
   "source": [
    "### The `print()` function\n",
    "\n",
    "For our first code, we will have Python output a message using the **`print()`** function (to execute code in the code boxes, type shift + return):"
   ]
  },
  {
   "cell_type": "code",
   "execution_count": null,
   "metadata": {},
   "outputs": [],
   "source": []
  },
  {
   "cell_type": "markdown",
   "metadata": {},
   "source": [
    "Python is very particular about syntax.  Try removing the parentheses:"
   ]
  },
  {
   "cell_type": "code",
   "execution_count": null,
   "metadata": {},
   "outputs": [],
   "source": []
  },
  {
   "cell_type": "markdown",
   "metadata": {},
   "source": [
    "Try removing the quotes:"
   ]
  },
  {
   "cell_type": "code",
   "execution_count": null,
   "metadata": {},
   "outputs": [],
   "source": []
  },
  {
   "cell_type": "markdown",
   "metadata": {},
   "source": [
    "Try changing the double quotes to single quotes:"
   ]
  },
  {
   "cell_type": "code",
   "execution_count": null,
   "metadata": {},
   "outputs": [],
   "source": []
  },
  {
   "cell_type": "markdown",
   "metadata": {},
   "source": [
    "If we want the message to span multiple lines, we can use triple quotes:"
   ]
  },
  {
   "cell_type": "code",
   "execution_count": null,
   "metadata": {},
   "outputs": [],
   "source": []
  },
  {
   "cell_type": "markdown",
   "metadata": {},
   "source": [
    "### The Python interpreter\n",
    "Open a terminal and type `python --version` at the prompt (`$`). If your default version of python is 2.x, and you've installed python version 3.x, you can invoke it by typing `python3`."
   ]
  },
  {
   "cell_type": "markdown",
   "metadata": {},
   "source": [
    " At the prompt (`>>>`), use the print function to print the phrase \"I love Python!\"."
   ]
  },
  {
   "cell_type": "markdown",
   "metadata": {},
   "source": [
    "### Python scripts"
   ]
  },
  {
   "cell_type": "markdown",
   "metadata": {},
   "source": [
    "The Jupyter notebook and the Python intepretor are great for writing and testing snippets of code, but when we want to actually create a Python program we write the instructions in a file, often called a script, using text editing software (gedit, TextWrangler, Notepad++, emacs, etc) or an IDE (Spyder, PyCharm)."
   ]
  },
  {
   "cell_type": "markdown",
   "metadata": {},
   "source": [
    "### Building blocks of a script"
   ]
  },
  {
   "cell_type": "markdown",
   "metadata": {},
   "source": [
    "Examine the `building_blocks.py` script available in the scripts link on the course website. Note some of the common components of a Python script. "
   ]
  },
  {
   "cell_type": "markdown",
   "metadata": {},
   "source": [
    "### Exercise 1a\n",
    "Open a text editor and create a new document. Save the document as `ex1a.py` in a new folder called `Scripts` or some other descriptive name. The `.py` extension is the conventional way of designating a file as a python script but it is not necessary to execute the script for Unix-based operating systems.\n",
    "\n",
    "Everything in the file will be intepreted as code, unless it's commented out with a `#`.\n",
    "\n",
    "Write a Python script that prints the message \"My first Python script!\".  The text editing software you use should color the code to make it easier to read.  Adding the `.py` extension should be sufficient to trigger syntax coloring within the file.\n",
    "\n",
    "To execute the script from the command line, type `python` (or `python3`, if Python v2 is the default) followed by the name of the script (e.g. `python3 ex1a.py`)."
   ]
  },
  {
   "cell_type": "markdown",
   "metadata": {},
   "source": [
    "### Math\n",
    "\n",
    "Python has 7 arithmetic operators: `+`, `-`, `\\*`, `/`, `**` (to the power of), `%` (modulus), `//` (floor division).\n",
    "\n",
    "Python does math in a fairly intuitive way. For example, what is 7 minus 3?"
   ]
  },
  {
   "cell_type": "code",
   "execution_count": null,
   "metadata": {},
   "outputs": [],
   "source": []
  },
  {
   "cell_type": "markdown",
   "metadata": {},
   "source": [
    "What is 1 divided by 2?"
   ]
  },
  {
   "cell_type": "code",
   "execution_count": null,
   "metadata": {},
   "outputs": [],
   "source": []
  },
  {
   "cell_type": "markdown",
   "metadata": {},
   "source": [
    "What is 2 times 3?"
   ]
  },
  {
   "cell_type": "code",
   "execution_count": null,
   "metadata": {},
   "outputs": [],
   "source": []
  },
  {
   "cell_type": "markdown",
   "metadata": {},
   "source": [
    "What is 2 cubed ('to the power of' uses the syntax `**`)?"
   ]
  },
  {
   "cell_type": "code",
   "execution_count": null,
   "metadata": {},
   "outputs": [],
   "source": []
  },
  {
   "cell_type": "markdown",
   "metadata": {},
   "source": [
    "Try some more complex math.  Does Python follow conventional rules for presedence of mathamatical operations?"
   ]
  },
  {
   "cell_type": "code",
   "execution_count": null,
   "metadata": {},
   "outputs": [],
   "source": []
  },
  {
   "cell_type": "markdown",
   "metadata": {},
   "source": [
    "In math, we often work with variables, such as x and y.  Try assigning a value to a variable `x`, just like you would if you were doing an algebra problem.:"
   ]
  },
  {
   "cell_type": "code",
   "execution_count": null,
   "metadata": {
    "collapsed": true
   },
   "outputs": [],
   "source": []
  },
  {
   "cell_type": "markdown",
   "metadata": {},
   "source": [
    "Now use the variable in an equation:"
   ]
  },
  {
   "cell_type": "code",
   "execution_count": null,
   "metadata": {},
   "outputs": [],
   "source": []
  },
  {
   "cell_type": "markdown",
   "metadata": {},
   "source": [
    "Try returning the value of the variable using the **`print()`** function:"
   ]
  },
  {
   "cell_type": "code",
   "execution_count": null,
   "metadata": {},
   "outputs": [],
   "source": []
  },
  {
   "cell_type": "markdown",
   "metadata": {},
   "source": [
    "If you followed the syntax used for the the **`print()`** function in the earlier example, you probably got as output exactly what you entered. What happens if you remove the quotes? "
   ]
  },
  {
   "cell_type": "code",
   "execution_count": null,
   "metadata": {},
   "outputs": [],
   "source": []
  },
  {
   "cell_type": "markdown",
   "metadata": {},
   "source": [
    "Try returning the value of a math operation using the **`print()`** function. Test what happens when you include or exclude quotes:"
   ]
  },
  {
   "cell_type": "code",
   "execution_count": null,
   "metadata": {},
   "outputs": [],
   "source": []
  },
  {
   "cell_type": "code",
   "execution_count": null,
   "metadata": {},
   "outputs": [],
   "source": []
  },
  {
   "cell_type": "markdown",
   "metadata": {},
   "source": [
    "### Exercise 1b\n",
    "Write a script in Spyder, which can be accessed via Anaconda-Navigator, called `ex1b.py` that does the following:\n",
    "1. Stores a number to a variable.\n",
    "2. Calculates the square root of the variable and stores it as a new variable.\n",
    "3. Prints the result to the terminal."
   ]
  },
  {
   "cell_type": "markdown",
   "metadata": {},
   "source": [
    "The script above should have three lines of code.  How can you condense it down to two lines of code while obtaining the same output? How can you condense it down to one line of code while obtaining the same output? Which is best?"
   ]
  },
  {
   "cell_type": "markdown",
   "metadata": {},
   "source": [
    "### Questions"
   ]
  },
  {
   "cell_type": "markdown",
   "metadata": {},
   "source": [
    "Q. When are quotation marks needed and when should they be excluded in the `print()` function?"
   ]
  },
  {
   "cell_type": "markdown",
   "metadata": {},
   "source": [
    "A."
   ]
  },
  {
   "cell_type": "markdown",
   "metadata": {},
   "source": [
    "Q. When are parentheses needed in the `print()` function?"
   ]
  },
  {
   "cell_type": "markdown",
   "metadata": {},
   "source": [
    "A."
   ]
  },
  {
   "cell_type": "markdown",
   "metadata": {},
   "source": [
    "Q. What are the differences between single, double, and triple quotes?"
   ]
  },
  {
   "cell_type": "markdown",
   "metadata": {},
   "source": [
    "A."
   ]
  },
  {
   "cell_type": "markdown",
   "metadata": {},
   "source": [
    "Q. What does a `#` signify when written directly before code on the same line?  What if the `#` is on the line preceeding the code? If unsure, try modifying the `ex1a.py` by adding a `#` at the beginning of a line of code. "
   ]
  },
  {
   "cell_type": "markdown",
   "metadata": {},
   "source": [
    "A."
   ]
  },
  {
   "cell_type": "markdown",
   "metadata": {},
   "source": [
    "Q. In the Python interpreter or notebook, the output of a mathematical operation is returned without using the `print()` function. What happens to the output of mathematical operations within a script?"
   ]
  },
  {
   "cell_type": "markdown",
   "metadata": {},
   "source": [
    "A."
   ]
  },
  {
   "cell_type": "markdown",
   "metadata": {},
   "source": [
    "Q. Where do spaces matter within Python code? When are new lines needed?  Test it in the code cell below."
   ]
  },
  {
   "cell_type": "markdown",
   "metadata": {},
   "source": [
    "A. "
   ]
  },
  {
   "cell_type": "code",
   "execution_count": null,
   "metadata": {
    "collapsed": true
   },
   "outputs": [],
   "source": []
  },
  {
   "cell_type": "markdown",
   "metadata": {},
   "source": [
    "### Additional Exercises"
   ]
  },
  {
   "cell_type": "markdown",
   "metadata": {},
   "source": [
    "1. Determine the default version of Python on your computer using `python --version`. Is the default Python 3? If not, how can you invoke Python 3?\n",
    "\n",
    "2. Launch the Python interpreter. In the python interpreter, assign the value `5` to the variable `num1` and then print the variable using the `print` function. Keep the intepreter open for the next problem.\n",
    "\n",
    "3. In the python interpreter, assign the value `2` to the variable `num2`. Assign the product of `num1` and `num2` to the variable `num3` and print the value of `num3` to the teriminal.\n",
    "\n",
    "4. Exit the python interpreter using either `ctrl-d` or `quit()`.\n",
    "\n",
    "5. Relaunch the python interpreter.  Are the variables you assigned above still defined?\n",
    "\n",
    "6. Write a python script (in a text editor or IDE) that calculates the area of a circle with radius `n`, where `n` is a variable containing any value and prints the value to the terminal. pi is roughly 3.14 but if you add the following line of code to the begining of your script, you can use `pi` for pi: `from math import pi`. We'll discuss importing modules later in the course. \n",
    "\n",
    "7. If you haven't already done so, modify the script from above with a comment embedded in the code describing what is being done.\n",
    "\n",
    "8. Write a script that calculates the remainder of a division between two numbers, assigned to the variables `num1` and `num2`. Assign the remainder to a third variable, `rem`, and then print the remainder to the terminal.\n",
    "\n",
    "9. Write a script that calculates the division of two numbers and returns an integer value (no digits after the decimal point; use the floor operator - `//`). What happens if you use negative numbers?\n",
    "\n",
    "10. Using the code cell below, print some lyrics of song you know by heart split between three separate `print()` functions. Notice that the lyrics in each `print()` function are printed on separate lines. By default, the `print()` function appends a new line (`\\n`). You can specify something other than `\\n`. For example, if you didn't want any additional characters included in each `print()` statement, you could use `print (\"string\", end='')`. What happens if you edit your code with `end=''` within the `print` functions? What about `end=','` or `end='\\t'`?"
   ]
  },
  {
   "cell_type": "code",
   "execution_count": null,
   "metadata": {},
   "outputs": [],
   "source": []
  }
 ],
 "metadata": {
  "anaconda-cloud": {},
  "kernelspec": {
   "display_name": "Python [default]",
   "language": "python",
   "name": "python3"
  },
  "language_info": {
   "codemirror_mode": {
    "name": "ipython",
    "version": 3
   },
   "file_extension": ".py",
   "mimetype": "text/x-python",
   "name": "python",
   "nbconvert_exporter": "python",
   "pygments_lexer": "ipython3",
   "version": "3.6.8"
  }
 },
 "nbformat": 4,
 "nbformat_minor": 1
}
