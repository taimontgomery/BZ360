{
 "cells": [
  {
   "cell_type": "markdown",
   "metadata": {
    "nbpresent": {
     "id": "9b716132-4668-4f3b-9f52-051e2602f963"
    }
   },
   "source": [
    "# Introduction to Python\n",
    "\n",
    "In this exercise, we will go through some of the basics of Python using Jupyter Notebook, the Python interpreter, and scripts."
   ]
  },
  {
   "cell_type": "markdown",
   "metadata": {
    "nbpresent": {
     "id": "a3c78c71-a07c-4818-9677-09aee1abf00b"
    }
   },
   "source": [
    "### Jupyter Notebook\n",
    "We will use Jupyter Notebook to demonstrate some of the basics of Python programming. Jupyter Notebook provides an interactive user friendly way of writing and testing snippets of code. The software is free and can be installed on your mac or pc following the link on the course website."
   ]
  },
  {
   "cell_type": "markdown",
   "metadata": {
    "nbpresent": {
     "id": "fc1dce5c-14c9-444a-a290-e5fb0d0d9e9f"
    }
   },
   "source": [
    "### The `print` function\n",
    "\n",
    "For our first code, we will have Python output a message using the `print()` function (to execute code in the code boxes, type shift + return):"
   ]
  },
  {
   "cell_type": "code",
   "execution_count": null,
   "metadata": {
    "collapsed": true,
    "nbpresent": {
     "id": "2072c173-198d-4fe1-b28c-8e103f0674b5"
    }
   },
   "outputs": [],
   "source": []
  },
  {
   "cell_type": "markdown",
   "metadata": {
    "nbpresent": {
     "id": "ccf43ee6-696a-4a60-83b5-566d800fb788"
    }
   },
   "source": [
    "Python is very particular about syntax.  Try removing the parentheses:"
   ]
  },
  {
   "cell_type": "code",
   "execution_count": null,
   "metadata": {
    "collapsed": true,
    "nbpresent": {
     "id": "3a5b422a-dd25-4375-9e22-a6e28d3cb5a8"
    }
   },
   "outputs": [],
   "source": []
  },
  {
   "cell_type": "markdown",
   "metadata": {
    "nbpresent": {
     "id": "5eb182fc-20a7-4976-af0d-23529eb17482"
    }
   },
   "source": [
    "Try removing the quotation marks:"
   ]
  },
  {
   "cell_type": "code",
   "execution_count": null,
   "metadata": {
    "collapsed": true,
    "nbpresent": {
     "id": "6273b982-9fd4-49a4-bc74-004316f43090"
    }
   },
   "outputs": [],
   "source": []
  },
  {
   "cell_type": "markdown",
   "metadata": {
    "nbpresent": {
     "id": "ac6a6b9a-55c5-4485-af32-1c4ceeefcfc1"
    }
   },
   "source": [
    "Try changing the double quotes to single quotes:"
   ]
  },
  {
   "cell_type": "code",
   "execution_count": null,
   "metadata": {
    "collapsed": true,
    "nbpresent": {
     "id": "e03135f7-1000-43b5-b5ec-53f7790eaccf"
    }
   },
   "outputs": [],
   "source": []
  },
  {
   "cell_type": "markdown",
   "metadata": {
    "nbpresent": {
     "id": "531781f0-7032-47ec-bb70-7a8feb540432"
    }
   },
   "source": [
    "# The Python interpreter\n",
    "Open a new terminal window (click on your open terminal and type `command+N`) and type `python --version` at the prompt (`$`). If your default version of python is 2.x, and you've installed python version 3.x, you can invoke it by typing `python3`."
   ]
  },
  {
   "cell_type": "markdown",
   "metadata": {
    "nbpresent": {
     "id": "cd6e315b-e0ee-42f9-bb17-00ceebb56165"
    }
   },
   "source": [
    "Launch the Python3 interpretor by typing python at command line prompt."
   ]
  },
  {
   "cell_type": "markdown",
   "metadata": {},
   "source": [
    "At the prompt (`>>>`), use the print function to print the phrase \"Hello, world!\". To exit the interpreter, use ctrl+d."
   ]
  },
  {
   "cell_type": "markdown",
   "metadata": {
    "nbpresent": {
     "id": "81be13cb-30a2-450e-b084-e04668d0d26d"
    }
   },
   "source": [
    "### Python scripts"
   ]
  },
  {
   "cell_type": "markdown",
   "metadata": {
    "nbpresent": {
     "id": "1bf83bc9-1c41-43ed-b097-c2fb95bf84c7"
    }
   },
   "source": [
    "The Jupyter notebook and the Python intepretor are great for writing and testing snippets of code, but when we want to actually create a Python program we'll write the instructions in a file, often called a script, using text editing software (e.g. gedit, TextWrangler, and Notepad++)."
   ]
  },
  {
   "cell_type": "markdown",
   "metadata": {
    "nbpresent": {
     "id": "f961d329-647b-4d54-9f87-bf9b9889a71b"
    }
   },
   "source": [
    "Open a text editor and create a new document. Save the document as `first.py` in a new folder called `PythonPrograms` or some other descriptive name. The `.py` extension is the conventional way of designating a file as a python script but it is not necessary to execute the script for Unix-based operating systems."
   ]
  },
  {
   "cell_type": "markdown",
   "metadata": {
    "nbpresent": {
     "id": "a68d1e4b-5c1a-45ec-9bfe-b149cf212ce8"
    }
   },
   "source": [
    "Everything in the file will be intepreted as code, unless its commented out with a `#`."
   ]
  },
  {
   "cell_type": "markdown",
   "metadata": {
    "nbpresent": {
     "id": "47bcbd42-555e-4ddf-ae26-bef49e1853cd"
    }
   },
   "source": [
    "Write a Python script that outputs the message \"My first Python script!\".  The text editing software you use should color the code to make it easier to read.  Adding the `.py` extension should be sufficient to trigger syntax coloring within the file."
   ]
  },
  {
   "cell_type": "markdown",
   "metadata": {
    "nbpresent": {
     "id": "38cc9875-4cb8-444d-8148-3b465bded998"
    }
   },
   "source": [
    "To execute the script from the command line, type `python` (or `python3`, if Python v2 is the default) followed by the name of the script (e.g. `python3 first_script.py`)."
   ]
  },
  {
   "cell_type": "markdown",
   "metadata": {
    "nbpresent": {
     "id": "ad170007-6720-4752-aa8e-b7e83e5f0ce1"
    }
   },
   "source": [
    "### Math\n",
    "\n",
    "Python does math in a fairly intuitive way. For example, what is 1 plus 1?"
   ]
  },
  {
   "cell_type": "code",
   "execution_count": null,
   "metadata": {
    "collapsed": true,
    "nbpresent": {
     "id": "9de37298-e24b-431e-b6bf-997cc20de4b4"
    }
   },
   "outputs": [],
   "source": []
  },
  {
   "cell_type": "markdown",
   "metadata": {
    "nbpresent": {
     "id": "d73471ab-61cb-4028-afa8-828feab91b30"
    }
   },
   "source": [
    "What is 1 divided by 2?"
   ]
  },
  {
   "cell_type": "code",
   "execution_count": null,
   "metadata": {
    "collapsed": true,
    "nbpresent": {
     "id": "66a2e748-7651-4798-a86b-e1b4577e95b2"
    }
   },
   "outputs": [],
   "source": []
  },
  {
   "cell_type": "markdown",
   "metadata": {
    "nbpresent": {
     "id": "5f64f75f-8079-404a-9b01-010e51cc45e3"
    }
   },
   "source": [
    "What is 2 times 3?"
   ]
  },
  {
   "cell_type": "code",
   "execution_count": null,
   "metadata": {
    "collapsed": true,
    "nbpresent": {
     "id": "2f2b3090-e07b-4779-a395-f520e81488bf"
    }
   },
   "outputs": [],
   "source": []
  },
  {
   "cell_type": "markdown",
   "metadata": {
    "nbpresent": {
     "id": "cc6f884e-1151-4a7a-ba36-e43de4c3ce80"
    }
   },
   "source": [
    "What is 2 cubed ('to the power of' uses the syntax `**`)?"
   ]
  },
  {
   "cell_type": "code",
   "execution_count": null,
   "metadata": {
    "collapsed": true,
    "nbpresent": {
     "id": "2ae102ca-85e2-498b-958b-4a1ed16cbcb5"
    }
   },
   "outputs": [],
   "source": []
  },
  {
   "cell_type": "markdown",
   "metadata": {
    "nbpresent": {
     "id": "a10932cf-ab59-4d91-946d-14651a84e250"
    }
   },
   "source": [
    "Try some more complex math.  Does Python follow conventional rules for presedence of mathamatical operations?"
   ]
  },
  {
   "cell_type": "code",
   "execution_count": null,
   "metadata": {
    "collapsed": true,
    "nbpresent": {
     "id": "809f76b1-5d82-448b-8b3a-4f25d55d8e21"
    }
   },
   "outputs": [],
   "source": []
  },
  {
   "cell_type": "markdown",
   "metadata": {
    "nbpresent": {
     "id": "55f2a303-f764-4c71-92cb-bbf0ff985fcd"
    }
   },
   "source": [
    "In python, we often work with variables.  Try creating a variable `n` and assign a value to it, just like you would if you were doing an algebra problem."
   ]
  },
  {
   "cell_type": "code",
   "execution_count": null,
   "metadata": {
    "collapsed": true,
    "nbpresent": {
     "id": "9128a26b-b08d-43ef-ae2a-adb059369101"
    }
   },
   "outputs": [],
   "source": []
  },
  {
   "cell_type": "markdown",
   "metadata": {
    "nbpresent": {
     "id": "113746c9-70a5-4fe9-8866-a5a5469be9be"
    }
   },
   "source": [
    "Now use the variable in an equation."
   ]
  },
  {
   "cell_type": "code",
   "execution_count": null,
   "metadata": {
    "collapsed": true,
    "nbpresent": {
     "id": "53a73134-f281-418c-9316-c9910b564139"
    }
   },
   "outputs": [],
   "source": []
  },
  {
   "cell_type": "markdown",
   "metadata": {
    "nbpresent": {
     "id": "3cc4234b-b35f-422c-8716-d8e8bb08c98b"
    }
   },
   "source": [
    "Try returning the value of the variable using the `print()` function."
   ]
  },
  {
   "cell_type": "code",
   "execution_count": null,
   "metadata": {
    "collapsed": true,
    "nbpresent": {
     "id": "28aa12c3-073c-455e-9834-6036a2579746"
    }
   },
   "outputs": [],
   "source": []
  },
  {
   "cell_type": "markdown",
   "metadata": {
    "nbpresent": {
     "id": "db0bd014-66dc-4748-9d4f-2f7a5159c26b"
    }
   },
   "source": [
    "If you followed the syntax used for the the `print()` function in the earlier example, you probably got as output exactly what you entered. What happens if you remove the quotation marks? "
   ]
  },
  {
   "cell_type": "code",
   "execution_count": null,
   "metadata": {
    "collapsed": true,
    "nbpresent": {
     "id": "477a61ee-b99e-47a1-b798-f7ae0e4b3c86"
    }
   },
   "outputs": [],
   "source": []
  },
  {
   "cell_type": "markdown",
   "metadata": {
    "nbpresent": {
     "id": "1b8a08e3-b3a7-4756-a2b1-09a7f4c0e5bc"
    }
   },
   "source": [
    "Try returning the value of a math operation using the `print()` function. Test what happens when you include or exclude quotation marks."
   ]
  },
  {
   "cell_type": "code",
   "execution_count": null,
   "metadata": {
    "collapsed": true,
    "nbpresent": {
     "id": "114eaa81-bce2-4b6c-bf87-dfc469b61e6e"
    }
   },
   "outputs": [],
   "source": []
  },
  {
   "cell_type": "code",
   "execution_count": null,
   "metadata": {
    "collapsed": true
   },
   "outputs": [],
   "source": []
  },
  {
   "cell_type": "markdown",
   "metadata": {
    "collapsed": true
   },
   "source": [
    "What if we want to print a combination of variables and literals?"
   ]
  },
  {
   "cell_type": "code",
   "execution_count": null,
   "metadata": {
    "collapsed": true
   },
   "outputs": [],
   "source": []
  },
  {
   "cell_type": "markdown",
   "metadata": {},
   "source": [
    "This is called an **f-string**. By placing an `f` in front of the string you wish to print variables can be included in by placing them in `{}`."
   ]
  },
  {
   "cell_type": "markdown",
   "metadata": {},
   "source": [
    "Using an f-string, print the following message: \"Hello, `name`!\", where `name` is a variable assigned below:"
   ]
  },
  {
   "cell_type": "code",
   "execution_count": 1,
   "metadata": {},
   "outputs": [],
   "source": [
    "name = 'Sam I am'\n"
   ]
  },
  {
   "cell_type": "markdown",
   "metadata": {},
   "source": [
    "## The `input` function"
   ]
  },
  {
   "cell_type": "markdown",
   "metadata": {},
   "source": [
    "Python's input function - `input()` - allows you to collect input from a user and then perform actions on that input:"
   ]
  },
  {
   "cell_type": "code",
   "execution_count": null,
   "metadata": {
    "collapsed": true
   },
   "outputs": [],
   "source": []
  },
  {
   "cell_type": "markdown",
   "metadata": {},
   "source": [
    "Not particularly useful on its own, but the input can also be stored as a variable or directly incorporated into a function."
   ]
  },
  {
   "cell_type": "markdown",
   "metadata": {},
   "source": [
    "We can store the value input by the user as a variable:"
   ]
  },
  {
   "cell_type": "code",
   "execution_count": null,
   "metadata": {
    "collapsed": true
   },
   "outputs": [],
   "source": []
  },
  {
   "cell_type": "markdown",
   "metadata": {},
   "source": [
    "Now print the user input using the `print()` function:"
   ]
  },
  {
   "cell_type": "code",
   "execution_count": null,
   "metadata": {
    "collapsed": true
   },
   "outputs": [],
   "source": []
  },
  {
   "cell_type": "markdown",
   "metadata": {},
   "source": [
    "We can also add a prompt:"
   ]
  },
  {
   "cell_type": "code",
   "execution_count": null,
   "metadata": {
    "collapsed": true
   },
   "outputs": [],
   "source": []
  },
  {
   "cell_type": "markdown",
   "metadata": {},
   "source": [
    "Now lets print a friendly message to the terminal:"
   ]
  },
  {
   "cell_type": "code",
   "execution_count": null,
   "metadata": {
    "collapsed": true
   },
   "outputs": [],
   "source": []
  },
  {
   "cell_type": "markdown",
   "metadata": {
    "nbpresent": {
     "id": "b9467bb5-30dd-42e8-8ee2-de3fc4c63d3f"
    }
   },
   "source": [
    "# Assignment 11"
   ]
  },
  {
   "cell_type": "markdown",
   "metadata": {
    "nbpresent": {
     "id": "2aed326c-8f75-4b8f-9663-85072e23f108"
    }
   },
   "source": [
    "In the code cell below, write code that does the following:\n",
    "1. Prompts the user for a number.\n",
    "2. Calculates the square of the number (to squre number use the syntax `number**2`).\n",
    "3. Prints the result with a description (e.g. if the user entered 3 at the prompt, the program might print '3 squared is 9')."
   ]
  },
  {
   "cell_type": "code",
   "execution_count": null,
   "metadata": {},
   "outputs": [],
   "source": []
  },
  {
   "cell_type": "markdown",
   "metadata": {},
   "source": [
    "### Copy and paste your code in Canvas for grading"
   ]
  }
 ],
 "metadata": {
  "anaconda-cloud": {},
  "kernelspec": {
   "display_name": "Python [default]",
   "language": "python",
   "name": "python3"
  },
  "language_info": {
   "codemirror_mode": {
    "name": "ipython",
    "version": 3
   },
   "file_extension": ".py",
   "mimetype": "text/x-python",
   "name": "python",
   "nbconvert_exporter": "python",
   "pygments_lexer": "ipython3",
   "version": "3.6.8"
  }
 },
 "nbformat": 4,
 "nbformat_minor": 1
}
