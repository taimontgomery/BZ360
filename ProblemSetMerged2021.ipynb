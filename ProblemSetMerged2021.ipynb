{
 "cells": [
  {
   "cell_type": "markdown",
   "metadata": {},
   "source": [
    "## Assignment 13\n",
    "Using BBEDIT, create a module with the revcomp(seq) function (below) and a `main()` function that prompts the user for a sequence, passes it to `revcomp()` and prints the return value. The `input()` prompt should be within a while loop so that it repeats the task until the user hits return instead of entering a sequence. Use the `main()` function in the  following code cell as a guide:"
   ]
  },
  {
   "cell_type": "code",
   "execution_count": null,
   "metadata": {},
   "outputs": [],
   "source": [
    "def rev_comp(seq):\n",
    "    \"\"\"reverse complements a sequence\n",
    "    \"\"\"\n",
    "    comp_seq = '' # an empty container for the comlement sequence for nt in seq:\n",
    "        if nt == 'A':\n",
    "            comp_seq += 'T' # append complementary nt to growing comp\n",
    "        elif nt == 'T':\n",
    "            comp_seq += 'A'\n",
    "        elif nt == 'C':\n",
    "            comp_seq += 'G'\n",
    "        elif nt == 'G':\n",
    "            comp_seq += 'C'\n",
    "    return comp_seq[::-1]\n",
    "\n",
    "def main():\n",
    "    \"\"\"prompts user for a DNA sequence and prints the reverse complement\n",
    "    \"\"\"\n",
    "    while True:\n",
    "        prompt user for a DNA sequence\n",
    "    if statement to test if an empty string, '', was entered and break if so\n",
    "    else, call revcomp() passing it the DNA sequence input by the user print the reverse complement\n",
    "\n",
    "main()"
   ]
  },
  {
   "cell_type": "markdown",
   "metadata": {
    "nbpresent": {
     "id": "218915e2-7f01-4118-85a5-a798f4efa933"
    }
   },
   "source": [
    "## Problem set 1 (not graded)"
   ]
  },
  {
   "cell_type": "markdown",
   "metadata": {
    "nbpresent": {
     "id": "1b507f7e-4169-45d3-924a-4117ed6ced51"
    }
   },
   "source": [
    "Q. When are quotation marks needed and when should they be excluded in the `print()` function?"
   ]
  },
  {
   "cell_type": "markdown",
   "metadata": {
    "nbpresent": {
     "id": "8bc23a2a-a3ce-4ba0-8d69-5222341efe27"
    }
   },
   "source": [
    "A."
   ]
  },
  {
   "cell_type": "markdown",
   "metadata": {
    "nbpresent": {
     "id": "5a623335-b6a4-4b18-aec4-eb31b7131b82"
    }
   },
   "source": [
    "Q. When are parentheses needed in the `print()` function?"
   ]
  },
  {
   "cell_type": "markdown",
   "metadata": {
    "nbpresent": {
     "id": "4de82f99-a062-445c-8821-92fe04b49d4e"
    }
   },
   "source": [
    "A."
   ]
  },
  {
   "cell_type": "markdown",
   "metadata": {
    "nbpresent": {
     "id": "a95957e4-c0c4-4c2f-9bbf-255828eabf9f"
    }
   },
   "source": [
    "Q. What are the differences between single and double quotes?"
   ]
  },
  {
   "cell_type": "markdown",
   "metadata": {
    "nbpresent": {
     "id": "dd256886-4241-480a-a797-1488aea13e80"
    }
   },
   "source": [
    "A."
   ]
  },
  {
   "cell_type": "markdown",
   "metadata": {
    "nbpresent": {
     "id": "b9c3892b-38ee-44b6-b3fd-a46ffa17603d"
    }
   },
   "source": [
    "Q. What does a `#` signify when written directly before code on the same line?"
   ]
  },
  {
   "cell_type": "markdown",
   "metadata": {
    "nbpresent": {
     "id": "e41303e2-b77b-458f-8c9f-8f076e415975"
    }
   },
   "source": [
    "A."
   ]
  },
  {
   "cell_type": "markdown",
   "metadata": {},
   "source": [
    "Q. What python function can be used to prompt the user for input and then read the input into your code?"
   ]
  },
  {
   "cell_type": "markdown",
   "metadata": {},
   "source": [
    "A. "
   ]
  },
  {
   "cell_type": "markdown",
   "metadata": {},
   "source": [
    "Q. What is a string?"
   ]
  },
  {
   "cell_type": "markdown",
   "metadata": {},
   "source": [
    "A. "
   ]
  },
  {
   "cell_type": "markdown",
   "metadata": {
    "nbpresent": {
     "id": "039ef25e-6ee7-4f9b-9ea2-7c4996fe16db"
    }
   },
   "source": [
    "### Practice problems"
   ]
  },
  {
   "cell_type": "markdown",
   "metadata": {
    "nbpresent": {
     "id": "c34011fb-10ab-4f60-b89e-687ae2a2f4b8"
    }
   },
   "source": [
    "**1.** In the code cell below, prompt the user for the length and then the width of a rectangle using two seperate `input()` statements. Then calculate the area of the rectangle (i.e. length x width) and  print the value to the terminal within a descriptive message (e.g. if the user enters 3 and 2, the program might print `Area: 6`). "
   ]
  },
  {
   "cell_type": "code",
   "execution_count": null,
   "metadata": {
    "nbpresent": {
     "id": "b8f5bc10-9f5b-45e4-bcd5-b0cb736f9524"
    }
   },
   "outputs": [],
   "source": []
  },
  {
   "cell_type": "markdown",
   "metadata": {
    "nbpresent": {
     "id": "218915e2-7f01-4118-85a5-a798f4efa933"
    }
   },
   "source": [
    "## Problem set 2"
   ]
  },
  {
   "cell_type": "markdown",
   "metadata": {},
   "source": [
    "### Questions"
   ]
  },
  {
   "cell_type": "markdown",
   "metadata": {},
   "source": [
    "Q. What is a conditional statement?"
   ]
  },
  {
   "cell_type": "markdown",
   "metadata": {},
   "source": [
    "A."
   ]
  },
  {
   "cell_type": "markdown",
   "metadata": {},
   "source": [
    "Q. What are Boolean expressions?"
   ]
  },
  {
   "cell_type": "markdown",
   "metadata": {},
   "source": [
    "A. "
   ]
  },
  {
   "cell_type": "markdown",
   "metadata": {},
   "source": [
    "Q. What is a function?"
   ]
  },
  {
   "cell_type": "markdown",
   "metadata": {},
   "source": [
    "A. "
   ]
  },
  {
   "cell_type": "markdown",
   "metadata": {},
   "source": [
    "Q.  What are some advantages to writing your code as functions?"
   ]
  },
  {
   "cell_type": "markdown",
   "metadata": {},
   "source": [
    "A."
   ]
  },
  {
   "cell_type": "markdown",
   "metadata": {},
   "source": [
    "Q. What does the following jargon mean: *function definition, call a function, pass an argument, return a value*?"
   ]
  },
  {
   "cell_type": "markdown",
   "metadata": {},
   "source": [
    "A. "
   ]
  },
  {
   "cell_type": "markdown",
   "metadata": {},
   "source": [
    "### Practice Problems"
   ]
  },
  {
   "cell_type": "markdown",
   "metadata": {},
   "source": [
    "Use the table of comparison operators below for the problems."
   ]
  },
  {
   "cell_type": "markdown",
   "metadata": {},
   "source": [
    "       Operator\tFunction\n",
    "       <\t       less than\n",
    "       <=\t      less than or equal to\n",
    "       >\t       greater than\n",
    "       >=\t      greater than or equal to\n",
    "       ==\t      equal\n",
    "       !=\t      not equal"
   ]
  },
  {
   "cell_type": "markdown",
   "metadata": {},
   "source": [
    "1. Use the code cell below to compute whether a 3-nt sequence input by the user using the `input()` function is a start codon (ATG), a stop codon (TAG, TAA, or TGA), or neither. Assume the user enters an RNA sequence (a combination of A, C, T, and G)."
   ]
  },
  {
   "cell_type": "code",
   "execution_count": null,
   "metadata": {},
   "outputs": [],
   "source": []
  },
  {
   "cell_type": "markdown",
   "metadata": {},
   "source": [
    "2. Use the code cell below to prompt a user for their email address and compute whether or not the email address is valid (assume its valid if it contains an @)."
   ]
  },
  {
   "cell_type": "code",
   "execution_count": null,
   "metadata": {},
   "outputs": [],
   "source": []
  },
  {
   "cell_type": "markdown",
   "metadata": {},
   "source": [
    "3. Use the code cell below to write a function called `square(number)` that prints the square of the number passed to it."
   ]
  },
  {
   "cell_type": "code",
   "execution_count": null,
   "metadata": {},
   "outputs": [],
   "source": [
    "\n"
   ]
  },
  {
   "cell_type": "markdown",
   "metadata": {},
   "source": [
    "4. Use the code cell below to edit the `square(number)` function from exercise 3 so that rather than print the square it returns it. Then use the function to calculate 4*3^2."
   ]
  },
  {
   "cell_type": "code",
   "execution_count": null,
   "metadata": {},
   "outputs": [],
   "source": [
    "\n"
   ]
  },
  {
   "cell_type": "markdown",
   "metadata": {},
   "source": [
    "5. Use the code cell below to write a function called `inverse()` that prompts the user for a number and prints the inverse of the number."
   ]
  },
  {
   "cell_type": "code",
   "execution_count": null,
   "metadata": {},
   "outputs": [],
   "source": [
    "\n"
   ]
  },
  {
   "cell_type": "markdown",
   "metadata": {
    "nbpresent": {
     "id": "218915e2-7f01-4118-85a5-a798f4efa933"
    }
   },
   "source": [
    "## Problem set 3"
   ]
  },
  {
   "cell_type": "markdown",
   "metadata": {},
   "source": [
    "### Questions"
   ]
  },
  {
   "cell_type": "markdown",
   "metadata": {},
   "source": [
    "Q. What are `if-else` statements, `for` loops, and `while` loops?"
   ]
  },
  {
   "cell_type": "markdown",
   "metadata": {},
   "source": [
    "A."
   ]
  },
  {
   "cell_type": "markdown",
   "metadata": {},
   "source": [
    "Q. When is indentation used in Python code?"
   ]
  },
  {
   "cell_type": "markdown",
   "metadata": {},
   "source": [
    "A. "
   ]
  },
  {
   "cell_type": "markdown",
   "metadata": {},
   "source": [
    "Q. What is the `range()` function?"
   ]
  },
  {
   "cell_type": "markdown",
   "metadata": {},
   "source": [
    "A. "
   ]
  },
  {
   "cell_type": "markdown",
   "metadata": {},
   "source": [
    "Q. What is the `in` operator use for?"
   ]
  },
  {
   "cell_type": "markdown",
   "metadata": {},
   "source": [
    "A."
   ]
  },
  {
   "cell_type": "markdown",
   "metadata": {},
   "source": [
    "### Practice Problems"
   ]
  },
  {
   "cell_type": "markdown",
   "metadata": {},
   "source": [
    "1. Use the code cell below to write a for loop that prints each even number between 0-10 (use the `range(start, stop, step)` function)."
   ]
  },
  {
   "cell_type": "code",
   "execution_count": null,
   "metadata": {},
   "outputs": [],
   "source": []
  },
  {
   "cell_type": "markdown",
   "metadata": {},
   "source": [
    "2. Use the code cell below to write a function called `counter()` that prompts the user for a number and prints each number from 0 to the number (including the number) input by the user using a for loop."
   ]
  },
  {
   "cell_type": "code",
   "execution_count": null,
   "metadata": {},
   "outputs": [],
   "source": []
  },
  {
   "cell_type": "markdown",
   "metadata": {},
   "source": [
    "3. In the code cell below, edit the `counter()` function from question 2 to use a while loop instead of a for loop."
   ]
  },
  {
   "cell_type": "code",
   "execution_count": null,
   "metadata": {},
   "outputs": [],
   "source": []
  },
  {
   "cell_type": "markdown",
   "metadata": {},
   "source": [
    "4. Use the code cell below to write a function called `seq_len()` that prompts a user for a sequence and computes and prints the length of the sequence. The `input()` prompt should be within a while loop and the function should continue to prompt the user for a sequence and print the length of it until the user just hits the return key. "
   ]
  },
  {
   "cell_type": "code",
   "execution_count": null,
   "metadata": {},
   "outputs": [],
   "source": []
  }
 ],
 "metadata": {
  "anaconda-cloud": {},
  "kernelspec": {
   "display_name": "Python 3",
   "language": "python",
   "name": "python3"
  },
  "language_info": {
   "codemirror_mode": {
    "name": "ipython",
    "version": 3
   },
   "file_extension": ".py",
   "mimetype": "text/x-python",
   "name": "python",
   "nbconvert_exporter": "python",
   "pygments_lexer": "ipython3",
   "version": "3.8.8"
  }
 },
 "nbformat": 4,
 "nbformat_minor": 1
}
