{
 "cells": [
  {
   "cell_type": "markdown",
   "metadata": {
    "nbpresent": {
     "id": "218915e2-7f01-4118-85a5-a798f4efa933"
    }
   },
   "source": [
    "## Problem set 1 (not graded)"
   ]
  },
  {
   "cell_type": "markdown",
   "metadata": {
    "nbpresent": {
     "id": "1b507f7e-4169-45d3-924a-4117ed6ced51"
    }
   },
   "source": [
    "Q. When are quotation marks needed and when should they be excluded in the `print()` function?"
   ]
  },
  {
   "cell_type": "markdown",
   "metadata": {
    "nbpresent": {
     "id": "8bc23a2a-a3ce-4ba0-8d69-5222341efe27"
    }
   },
   "source": [
    "A."
   ]
  },
  {
   "cell_type": "markdown",
   "metadata": {
    "nbpresent": {
     "id": "5a623335-b6a4-4b18-aec4-eb31b7131b82"
    }
   },
   "source": [
    "Q. When are parentheses needed in the `print()` function?"
   ]
  },
  {
   "cell_type": "markdown",
   "metadata": {
    "nbpresent": {
     "id": "4de82f99-a062-445c-8821-92fe04b49d4e"
    }
   },
   "source": [
    "A."
   ]
  },
  {
   "cell_type": "markdown",
   "metadata": {
    "nbpresent": {
     "id": "a95957e4-c0c4-4c2f-9bbf-255828eabf9f"
    }
   },
   "source": [
    "Q. What are the differences between single and double quotes?"
   ]
  },
  {
   "cell_type": "markdown",
   "metadata": {
    "nbpresent": {
     "id": "dd256886-4241-480a-a797-1488aea13e80"
    }
   },
   "source": [
    "A."
   ]
  },
  {
   "cell_type": "markdown",
   "metadata": {
    "nbpresent": {
     "id": "b9c3892b-38ee-44b6-b3fd-a46ffa17603d"
    }
   },
   "source": [
    "Q. What does a `#` signify when written directly before code on the same line?"
   ]
  },
  {
   "cell_type": "markdown",
   "metadata": {
    "nbpresent": {
     "id": "e41303e2-b77b-458f-8c9f-8f076e415975"
    }
   },
   "source": [
    "A."
   ]
  },
  {
   "cell_type": "markdown",
   "metadata": {
    "nbpresent": {
     "id": "ea9a3768-4608-4e37-bfa6-28aec61e6acc"
    }
   },
   "source": [
    "Q. In the Python interpreter or Jupyter notebook, the output of a mathematical operation is returned without using the `print` function. What happens to the output of mathematical operations within a script?"
   ]
  },
  {
   "cell_type": "markdown",
   "metadata": {
    "nbpresent": {
     "id": "f85b8042-bc54-4be4-911a-1ff442ff16a8"
    }
   },
   "source": [
    "A."
   ]
  },
  {
   "cell_type": "markdown",
   "metadata": {
    "nbpresent": {
     "id": "039ef25e-6ee7-4f9b-9ea2-7c4996fe16db"
    }
   },
   "source": [
    "### Practice problems"
   ]
  },
  {
   "cell_type": "markdown",
   "metadata": {
    "nbpresent": {
     "id": "c34011fb-10ab-4f60-b89e-687ae2a2f4b8"
    }
   },
   "source": [
    "**1.** In the code cell below, prompt the user for the length and then the width of a rectangle using two seperate `input()` statement. Then calculate the area of the rectangle (i.e. length x width) and  print the value to the terminal within a descriptive message (e.g. if the user enters 3 and 2, the program might print `Area: 6`). "
   ]
  },
  {
   "cell_type": "code",
   "execution_count": null,
   "metadata": {
    "nbpresent": {
     "id": "b8f5bc10-9f5b-45e4-bcd5-b0cb736f9524"
    }
   },
   "outputs": [],
   "source": []
  }
 ],
 "metadata": {
  "anaconda-cloud": {},
  "kernelspec": {
   "display_name": "Python [default]",
   "language": "python",
   "name": "python3"
  },
  "language_info": {
   "codemirror_mode": {
    "name": "ipython",
    "version": 3
   },
   "file_extension": ".py",
   "mimetype": "text/x-python",
   "name": "python",
   "nbconvert_exporter": "python",
   "pygments_lexer": "ipython3",
   "version": "3.6.8"
  }
 },
 "nbformat": 4,
 "nbformat_minor": 1
}
